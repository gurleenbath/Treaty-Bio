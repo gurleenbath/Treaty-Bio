{
 "cells": [
  {
   "cell_type": "markdown",
   "metadata": {},
   "source": [
    "<h1>__main__</h1>"
   ]
  },
  {
   "cell_type": "code",
   "execution_count": null,
   "metadata": {},
   "outputs": [],
   "source": [
    "import treading \n",
    "import pandas as pd"
   ]
  },
  {
   "cell_type": "code",
   "execution_count": null,
   "metadata": {},
   "outputs": [],
   "source": [
    "#<-For formatting will remove later ----------------- 80 chars ---------------->\n",
    "\n",
    "#sound data for last 3 seconds\n",
    "sound_data = []\n",
    "sound_lock = threading.RLock()\n",
    "\n",
    "#current recognized command\n",
    "current_command = 0\n",
    "command_lock = threading.RLock()\n",
    "\n",
    "#motion data dictionary for data points this will update\n",
    "data_columns = ['sqrt_int_ax', 'ax_min', 'ax_max', 'sqrt_int_ay', 'ay_min', \\\n",
    "                'ay_max', 'sqrt_int_az', 'az_min', 'az_max', 'gyr_x_final', \\\n",
    "                'gyr_x_min', 'gyr_x_max', 'gyr_y_min', 'gyr_y_max', \\\n",
    "            'gyr_y_final', 'gyr_z_min', 'gyr_z_max', 'gyr_z_final', \\\n",
    "            'time', 'make', 'short', 'long', 'left', 'right'] #make, short, long, left, right, hot coded\\n"
    "motion_data = pd.dataFrame([], columns = data_columns)\n",
    "data_lock = threading.RLock()\n",
    "\n",
    "#suggestion integer, triggers a recorded suggestion to play\n",
    "suggestion = 0\n",
    "suggestion_lock = threading.RLock()\n",
    "\n",
    "#tells the program to keep taking data\n",
    "continue_variable = True"
   ]
  },
  {
   "cell_type": "code",
   "execution_count": null,
   "metadata": {},
   "outputs": [],
   "source": [
    "#<-For formatting will remove later ----------------- 80 chars ---------------->\n",
    "\n",
    "#recognizes verbal commands and sets the current_command variable\n",
    "#also changes contiune_variable if the user says stop\n",
    "def recognize_command():\n",
    "    global continue_variable\n",
    "    while continue_variable:\n",
    "        #stuff here\n",
    "        \n",
    "#reads data from motion data, fits with a model\n",
    "#updates suggestion variable\n",
    "def update_suggestion():\n",
    "    global continue_variable\n",
    "    while continue_variable:\n",
    "        #do stuff\n",
    "\n",
    "#reads suggestion variable, plays the suggestion\n",
    "#sets the suggestion variable back to zero afterwards\n",
    "def play_suggestion():\n",
    "    global continue_variable\n",
    "    while continue_variable:\n",
    "        #do stuff\n",
    "\n",
    "#creating threads\n",
    "recognize = threading.Thread(target=recognize_command)\n",
    "suggestion = threading.Thread(target=update_suggestion)\n",
    "player = threading.Thread(target=play_suggestion)\n",
    "\n",
    "#running threads\n",
    "recongnize.start()\n",
    "suggestion.start()\n",
    "player.start()"
   ]
  }
 ],
 "metadata": {
  "kernelspec": {
   "display_name": "Python 3",
   "language": "python",
   "name": "python3"
  },
  "language_info": {
   "codemirror_mode": {
    "name": "ipython",
    "version": 3
   },
   "file_extension": ".py",
   "mimetype": "text/x-python",
   "name": "python",
   "nbconvert_exporter": "python",
   "pygments_lexer": "ipython3",
   "version": "3.7.4"
  }
 },
 "nbformat": 4,
 "nbformat_minor": 2
}
