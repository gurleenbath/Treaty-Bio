{
 "cells": [
  {
   "cell_type": "code",
   "execution_count": 206,
   "metadata": {},
   "outputs": [],
   "source": [
    "import numpy as np\n",
    "import pandas as pd"
   ]
  },
  {
   "cell_type": "code",
   "execution_count": 207,
   "metadata": {},
   "outputs": [],
   "source": [
    "# read in all acc make files\n",
    "\n",
    "acc_make = pd.read_csv('brendan_k_data/acc_make.csv')\n",
    "acc_miss_left = pd.read_csv('brendan_k_data/acc_miss_left.csv')\n",
    "acc_miss_long = pd.read_csv('brendan_k_data/acc_miss_long.csv')\n",
    "acc_miss_right = pd.read_csv('brendan_k_data/acc_miss_right.csv')\n",
    "acc_miss_short = pd.read_csv('brendan_k_data/acc_miss_short.csv')"
   ]
  },
  {
   "cell_type": "code",
   "execution_count": 208,
   "metadata": {},
   "outputs": [],
   "source": [
    "# read in all gyr files\n",
    "\n",
    "gyr_make = pd.read_csv('brendan_k_data/gyr_make.csv')\n",
    "gyr_miss_left = pd.read_csv('brendan_k_data/gyr_miss_left.csv')\n",
    "gyr_miss_long = pd.read_csv('brendan_k_data/gyr_miss_long.csv')\n",
    "gyr_miss_right = pd.read_csv('brendan_k_data/gyr_miss_right.csv')\n",
    "gyr_miss_short = pd.read_csv('brendan_k_data/gyr_miss_short.csv')"
   ]
  },
  {
   "cell_type": "code",
   "execution_count": 209,
   "metadata": {},
   "outputs": [],
   "source": [
    "# lets combine them into master files for each one\n",
    "\n",
    "make = acc_make.merge(gyr_make, on='Date')\n",
    "miss_left = acc_miss_left.merge(gyr_miss_left, on='Date')\n",
    "miss_long = acc_miss_long.merge(gyr_miss_long, on='Date')\n",
    "miss_right = acc_miss_right.merge(gyr_miss_right, on='Date')\n",
    "miss_short = acc_miss_short.merge(gyr_miss_short, on='Date')"
   ]
  },
  {
   "cell_type": "code",
   "execution_count": 210,
   "metadata": {},
   "outputs": [],
   "source": [
    "# drop junk columns\n",
    "\n",
    "columns_to_delete = ['HostTimestamp_x', 'NodeName_x', 'NodeTimestamp_x', 'RawData_x',\n",
    "                    'HostTimestamp_y', 'NodeName_y', 'NodeTimestamp_y', 'RawData_y']\n",
    "\n",
    "make = make.drop(columns_to_delete, axis=1)\n",
    "make['status'] = 'make'\n",
    "miss_left = miss_left.drop(columns_to_delete, axis=1)\n",
    "miss_left['status'] = 'miss_left'\n",
    "miss_long = miss_long.drop(columns_to_delete, axis=1)\n",
    "miss_long['status'] = 'miss_long'\n",
    "miss_right = miss_right.drop(columns_to_delete, axis=1)\n",
    "miss_right['status'] = 'miss_right'\n",
    "miss_short = miss_short.drop(columns_to_delete, axis=1)\n",
    "miss_short['status'] = 'miss_right'"
   ]
  },
  {
   "cell_type": "code",
   "execution_count": 211,
   "metadata": {},
   "outputs": [],
   "source": [
    "# another round of dropping\n",
    "\n",
    "col_to_del = ['Unnamed: 8', 'Unnamed: 9', 'Unnamed: 10', 'Unnamed: 11']\n",
    "miss_short = miss_short.drop(col_to_del, axis=1)\n",
    "miss_long = miss_long.drop(col_to_del, axis=1)"
   ]
  },
  {
   "cell_type": "code",
   "execution_count": 212,
   "metadata": {},
   "outputs": [],
   "source": [
    "# combine all data points into one pd\n",
    "\n",
    "frames = [make, miss_left, miss_long, miss_right, miss_short]\n",
    "df = pd.concat(frames, axis=0, ignore_index=True)"
   ]
  },
  {
   "cell_type": "code",
   "execution_count": 216,
   "metadata": {},
   "outputs": [],
   "source": [
    "# one-hot encode status\n",
    "\n",
    "df = pd.get_dummies(df, columns=['status'])\n",
    "df.head(5)"
   ]
  },
  {
   "cell_type": "code",
   "execution_count": null,
   "metadata": {},
   "outputs": [],
   "source": []
  }
 ],
 "metadata": {
  "kernelspec": {
   "display_name": "Python 3",
   "language": "python",
   "name": "python3"
  },
  "language_info": {
   "codemirror_mode": {
    "name": "ipython",
    "version": 3
   },
   "file_extension": ".py",
   "mimetype": "text/x-python",
   "name": "python",
   "nbconvert_exporter": "python",
   "pygments_lexer": "ipython3",
   "version": "3.6.10"
  }
 },
 "nbformat": 4,
 "nbformat_minor": 4
}
