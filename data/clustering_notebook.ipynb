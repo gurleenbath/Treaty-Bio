{
 "cells": [
  {
   "cell_type": "code",
   "execution_count": 173,
   "metadata": {},
   "outputs": [],
   "source": [
    "import numpy as np\n",
    "import pandas as pd"
   ]
  },
  {
   "cell_type": "code",
   "execution_count": 174,
   "metadata": {},
   "outputs": [],
   "source": [
    "# read in all acc make files\n",
    "\n",
    "acc_make = pd.read_csv('brendan_k_data/acc_make.csv')\n",
    "acc_miss_left = pd.read_csv('brendan_k_data/acc_miss_left.csv')\n",
    "acc_miss_long = pd.read_csv('brendan_k_data/acc_miss_long.csv')\n",
    "acc_miss_right = pd.read_csv('brendan_k_data/acc_miss_right.csv')\n",
    "acc_miss_short = pd.read_csv('brendan_k_data/acc_miss_short.csv')"
   ]
  },
  {
   "cell_type": "code",
   "execution_count": 175,
   "metadata": {},
   "outputs": [],
   "source": [
    "# read in all gyr files\n",
    "\n",
    "gyr_make = pd.read_csv('brendan_k_data/gyr_make.csv')\n",
    "gyr_miss_left = pd.read_csv('brendan_k_data/gyr_miss_left.csv')\n",
    "gyr_miss_long = pd.read_csv('brendan_k_data/gyr_miss_long.csv')\n",
    "gyr_miss_right = pd.read_csv('brendan_k_data/gyr_miss_right.csv')\n",
    "gyr_miss_short = pd.read_csv('brendan_k_data/gyr_miss_short.csv')"
   ]
  },
  {
   "cell_type": "code",
   "execution_count": 176,
   "metadata": {},
   "outputs": [],
   "source": [
    "# lets combine them into master files for each one\n",
    "\n",
    "make = acc_make.merge(gyr_make, on='Date')\n",
    "miss_left = acc_miss_left.merge(gyr_miss_left, on='Date')\n",
    "miss_long = acc_miss_long.merge(gyr_miss_long, on='Date')\n",
    "miss_right = acc_miss_right.merge(gyr_miss_right, on='Date')\n",
    "miss_short = acc_miss_short.merge(gyr_miss_short, on='Date')"
   ]
  },
  {
   "cell_type": "code",
   "execution_count": 177,
   "metadata": {},
   "outputs": [],
   "source": [
    "# drop junk columns\n",
    "\n",
    "columns_to_delete = ['HostTimestamp_x', 'NodeName_x', 'NodeTimestamp_x', 'RawData_x',\n",
    "                    'HostTimestamp_y', 'NodeName_y', 'NodeTimestamp_y', 'RawData_y']\n",
    "\n",
    "make = make.drop(columns_to_delete, axis=1)\n",
    "make['status'] = 'make'\n",
    "miss_left = miss_left.drop(columns_to_delete, axis=1)\n",
    "miss_left['status'] = 'miss_left'\n",
    "miss_long = miss_long.drop(columns_to_delete, axis=1)\n",
    "miss_long['status'] = 'miss_long'\n",
    "miss_right = miss_right.drop(columns_to_delete, axis=1)\n",
    "miss_right['status'] = 'miss_right'\n",
    "miss_short = miss_short.drop(columns_to_delete, axis=1)\n",
    "miss_short['status'] = 'miss_right'"
   ]
  },
  {
   "cell_type": "code",
   "execution_count": 178,
   "metadata": {},
   "outputs": [],
   "source": [
    "# another round of dropping\n",
    "\n",
    "col_to_del = ['Unnamed: 8', 'Unnamed: 9', 'Unnamed: 10', 'Unnamed: 11']\n",
    "miss_short = miss_short.drop(col_to_del, axis=1)\n",
    "miss_long = miss_long.drop(col_to_del, axis=1)"
   ]
  },
  {
   "cell_type": "code",
   "execution_count": 180,
   "metadata": {},
   "outputs": [],
   "source": [
    "# combine all data points into one pd\n",
    "\n",
    "frames = [make, miss_left, miss_long, miss_right, miss_short]\n",
    "df = pd.concat(frames, axis=0, ignore_index=True)"
   ]
  },
  {
   "cell_type": "code",
   "execution_count": 187,
   "metadata": {},
   "outputs": [
    {
     "data": {
      "text/html": [
       "<div>\n",
       "<style scoped>\n",
       "    .dataframe tbody tr th:only-of-type {\n",
       "        vertical-align: middle;\n",
       "    }\n",
       "\n",
       "    .dataframe tbody tr th {\n",
       "        vertical-align: top;\n",
       "    }\n",
       "\n",
       "    .dataframe thead th {\n",
       "        text-align: right;\n",
       "    }\n",
       "</style>\n",
       "<table border=\"1\" class=\"dataframe\">\n",
       "  <thead>\n",
       "    <tr style=\"text-align: right;\">\n",
       "      <th></th>\n",
       "      <th>Date</th>\n",
       "      <th>X (mg)</th>\n",
       "      <th>Y (mg)</th>\n",
       "      <th>Z (mg)</th>\n",
       "      <th>X (dps)</th>\n",
       "      <th>Y (dps)</th>\n",
       "      <th>Z (dps)</th>\n",
       "      <th>status</th>\n",
       "    </tr>\n",
       "  </thead>\n",
       "  <tbody>\n",
       "    <tr>\n",
       "      <th>21028</th>\n",
       "      <td>26/07/2020 16:38:33.565</td>\n",
       "      <td>-930.0</td>\n",
       "      <td>222.0</td>\n",
       "      <td>-248.0</td>\n",
       "      <td>2.5</td>\n",
       "      <td>0.4</td>\n",
       "      <td>-1.1</td>\n",
       "      <td>miss_right</td>\n",
       "    </tr>\n",
       "    <tr>\n",
       "      <th>21029</th>\n",
       "      <td>26/07/2020 16:38:33.623</td>\n",
       "      <td>-963.0</td>\n",
       "      <td>230.0</td>\n",
       "      <td>-267.0</td>\n",
       "      <td>0.4</td>\n",
       "      <td>-5.8</td>\n",
       "      <td>1.6</td>\n",
       "      <td>miss_right</td>\n",
       "    </tr>\n",
       "    <tr>\n",
       "      <th>21030</th>\n",
       "      <td>26/07/2020 16:38:33.686</td>\n",
       "      <td>-935.0</td>\n",
       "      <td>236.0</td>\n",
       "      <td>-267.0</td>\n",
       "      <td>0.4</td>\n",
       "      <td>0.1</td>\n",
       "      <td>2.3</td>\n",
       "      <td>miss_right</td>\n",
       "    </tr>\n",
       "    <tr>\n",
       "      <th>21031</th>\n",
       "      <td>26/07/2020 16:38:33.715</td>\n",
       "      <td>-951.0</td>\n",
       "      <td>234.0</td>\n",
       "      <td>-279.0</td>\n",
       "      <td>0.0</td>\n",
       "      <td>-5.5</td>\n",
       "      <td>3.7</td>\n",
       "      <td>miss_right</td>\n",
       "    </tr>\n",
       "    <tr>\n",
       "      <th>21032</th>\n",
       "      <td>26/07/2020 16:38:33.836</td>\n",
       "      <td>-950.0</td>\n",
       "      <td>227.0</td>\n",
       "      <td>-277.0</td>\n",
       "      <td>1.4</td>\n",
       "      <td>-1.8</td>\n",
       "      <td>1.9</td>\n",
       "      <td>miss_right</td>\n",
       "    </tr>\n",
       "  </tbody>\n",
       "</table>\n",
       "</div>"
      ],
      "text/plain": [
       "                          Date  X (mg)  Y (mg)  Z (mg)  X (dps)  Y (dps)  \\\n",
       "21028  26/07/2020 16:38:33.565  -930.0   222.0  -248.0      2.5      0.4   \n",
       "21029  26/07/2020 16:38:33.623  -963.0   230.0  -267.0      0.4     -5.8   \n",
       "21030  26/07/2020 16:38:33.686  -935.0   236.0  -267.0      0.4      0.1   \n",
       "21031  26/07/2020 16:38:33.715  -951.0   234.0  -279.0      0.0     -5.5   \n",
       "21032  26/07/2020 16:38:33.836  -950.0   227.0  -277.0      1.4     -1.8   \n",
       "\n",
       "       Z (dps)      status  \n",
       "21028     -1.1  miss_right  \n",
       "21029      1.6  miss_right  \n",
       "21030      2.3  miss_right  \n",
       "21031      3.7  miss_right  \n",
       "21032      1.9  miss_right  "
      ]
     },
     "execution_count": 187,
     "metadata": {},
     "output_type": "execute_result"
    }
   ],
   "source": [
    "df.tail()"
   ]
  },
  {
   "cell_type": "code",
   "execution_count": null,
   "metadata": {},
   "outputs": [],
   "source": []
  }
 ],
 "metadata": {
  "kernelspec": {
   "display_name": "Python 3",
   "language": "python",
   "name": "python3"
  },
  "language_info": {
   "codemirror_mode": {
    "name": "ipython",
    "version": 3
   },
   "file_extension": ".py",
   "mimetype": "text/x-python",
   "name": "python",
   "nbconvert_exporter": "python",
   "pygments_lexer": "ipython3",
   "version": "3.6.10"
  }
 },
 "nbformat": 4,
 "nbformat_minor": 4
}
