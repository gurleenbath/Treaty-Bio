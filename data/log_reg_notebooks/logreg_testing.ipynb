{
 "cells": [
  {
   "cell_type": "code",
   "execution_count": 95,
   "metadata": {},
   "outputs": [],
   "source": [
    "import sys\n",
    "import os\n",
    "import subprocess\n",
    "import time\n",
    "import pandas as pd\n",
    "from sklearn.cluster import KMeans\n",
    "from sklearn.linear_model import LogisticRegression\n",
    "from sklearn.linear_model import LogisticRegressionCV\n",
    "from sklearn.model_selection import train_test_split\n",
    "from sklearn.metrics import accuracy_score\n",
    "from sklearn.preprocessing import StandardScaler\n",
    "# from sklearn.preprocessing import normalize"
   ]
  },
  {
   "cell_type": "code",
   "execution_count": 96,
   "metadata": {},
   "outputs": [],
   "source": [
    "# Log Reg testing by Sishir Yeety"
   ]
  },
  {
   "cell_type": "code",
   "execution_count": 97,
   "metadata": {},
   "outputs": [],
   "source": [
    "# input is motion data\n",
    "# output should be suggestion_data\n",
    "\n",
    "df = pd.read_csv('motion_data_new.csv')\n",
    "cols=['suggestion', 'file_name', 'left', 'right', 'short', 'long']\n",
    "df = df.drop(cols, axis=1)"
   ]
  },
  {
   "cell_type": "code",
   "execution_count": 98,
   "metadata": {},
   "outputs": [
    {
     "data": {
      "text/plain": [
       "(191, 16)"
      ]
     },
     "execution_count": 98,
     "metadata": {},
     "output_type": "execute_result"
    }
   ],
   "source": [
    "df.shape"
   ]
  },
  {
   "cell_type": "code",
   "execution_count": 99,
   "metadata": {},
   "outputs": [],
   "source": [
    "df = df.rename({'make': 'shot'}, axis='columns')"
   ]
  },
  {
   "cell_type": "code",
   "execution_count": 100,
   "metadata": {},
   "outputs": [
    {
     "data": {
      "text/html": [
       "<div>\n",
       "<style scoped>\n",
       "    .dataframe tbody tr th:only-of-type {\n",
       "        vertical-align: middle;\n",
       "    }\n",
       "\n",
       "    .dataframe tbody tr th {\n",
       "        vertical-align: top;\n",
       "    }\n",
       "\n",
       "    .dataframe thead th {\n",
       "        text-align: right;\n",
       "    }\n",
       "</style>\n",
       "<table border=\"1\" class=\"dataframe\">\n",
       "  <thead>\n",
       "    <tr style=\"text-align: right;\">\n",
       "      <th></th>\n",
       "      <th>int_ax</th>\n",
       "      <th>ax_min</th>\n",
       "      <th>ax_max</th>\n",
       "      <th>int_ay</th>\n",
       "      <th>ay_min</th>\n",
       "      <th>ay_max</th>\n",
       "      <th>int_az</th>\n",
       "      <th>az_min</th>\n",
       "      <th>az_max</th>\n",
       "      <th>gyr_x_min</th>\n",
       "      <th>gyr_x_max</th>\n",
       "      <th>gyr_y_min</th>\n",
       "      <th>gyr_y_max</th>\n",
       "      <th>gyr_z_min</th>\n",
       "      <th>gyr_z_max</th>\n",
       "      <th>shot</th>\n",
       "    </tr>\n",
       "  </thead>\n",
       "  <tbody>\n",
       "    <tr>\n",
       "      <th>0</th>\n",
       "      <td>82856.343254</td>\n",
       "      <td>-1998.0</td>\n",
       "      <td>1294.0</td>\n",
       "      <td>538035.817460</td>\n",
       "      <td>-1998.0</td>\n",
       "      <td>1144.0</td>\n",
       "      <td>-376347.727183</td>\n",
       "      <td>-1996.0</td>\n",
       "      <td>1998.0</td>\n",
       "      <td>-1088.2</td>\n",
       "      <td>212.5</td>\n",
       "      <td>-203.2</td>\n",
       "      <td>2261.0</td>\n",
       "      <td>-571.7</td>\n",
       "      <td>205.1</td>\n",
       "      <td>1</td>\n",
       "    </tr>\n",
       "    <tr>\n",
       "      <th>1</th>\n",
       "      <td>176002.095238</td>\n",
       "      <td>-1998.0</td>\n",
       "      <td>1998.0</td>\n",
       "      <td>716632.396825</td>\n",
       "      <td>-1973.0</td>\n",
       "      <td>1996.0</td>\n",
       "      <td>-88333.873016</td>\n",
       "      <td>-1996.0</td>\n",
       "      <td>1998.0</td>\n",
       "      <td>-285.5</td>\n",
       "      <td>406.7</td>\n",
       "      <td>-237.3</td>\n",
       "      <td>1901.9</td>\n",
       "      <td>-303.5</td>\n",
       "      <td>355.6</td>\n",
       "      <td>1</td>\n",
       "    </tr>\n",
       "    <tr>\n",
       "      <th>2</th>\n",
       "      <td>179779.972222</td>\n",
       "      <td>-1998.0</td>\n",
       "      <td>1468.0</td>\n",
       "      <td>681007.513889</td>\n",
       "      <td>-1998.0</td>\n",
       "      <td>1859.0</td>\n",
       "      <td>-40113.833333</td>\n",
       "      <td>-1996.0</td>\n",
       "      <td>1998.0</td>\n",
       "      <td>-494.9</td>\n",
       "      <td>145.8</td>\n",
       "      <td>-234.6</td>\n",
       "      <td>1611.8</td>\n",
       "      <td>-189.4</td>\n",
       "      <td>263.7</td>\n",
       "      <td>0</td>\n",
       "    </tr>\n",
       "  </tbody>\n",
       "</table>\n",
       "</div>"
      ],
      "text/plain": [
       "          int_ax  ax_min  ax_max         int_ay  ay_min  ay_max  \\\n",
       "0   82856.343254 -1998.0  1294.0  538035.817460 -1998.0  1144.0   \n",
       "1  176002.095238 -1998.0  1998.0  716632.396825 -1973.0  1996.0   \n",
       "2  179779.972222 -1998.0  1468.0  681007.513889 -1998.0  1859.0   \n",
       "\n",
       "          int_az  az_min  az_max  gyr_x_min  gyr_x_max  gyr_y_min  gyr_y_max  \\\n",
       "0 -376347.727183 -1996.0  1998.0    -1088.2      212.5     -203.2     2261.0   \n",
       "1  -88333.873016 -1996.0  1998.0     -285.5      406.7     -237.3     1901.9   \n",
       "2  -40113.833333 -1996.0  1998.0     -494.9      145.8     -234.6     1611.8   \n",
       "\n",
       "   gyr_z_min  gyr_z_max  shot  \n",
       "0     -571.7      205.1     1  \n",
       "1     -303.5      355.6     1  \n",
       "2     -189.4      263.7     0  "
      ]
     },
     "execution_count": 100,
     "metadata": {},
     "output_type": "execute_result"
    }
   ],
   "source": [
    "df.head(3)"
   ]
  },
  {
   "cell_type": "code",
   "execution_count": 101,
   "metadata": {},
   "outputs": [],
   "source": [
    "x = df[['int_ax', 'ax_min', 'ax_max', 'int_ay', 'ay_min', 'ay_max', 'int_az'\n",
    "      , 'az_min', 'az_max', 'gyr_x_min', 'gyr_x_max', 'gyr_y_min',\n",
    "      'gyr_z_min', 'gyr_z_max']]\n",
    "y = df['shot']"
   ]
  },
  {
   "cell_type": "code",
   "execution_count": 102,
   "metadata": {},
   "outputs": [
    {
     "name": "stdout",
     "output_type": "stream",
     "text": [
      "(100, 14) (91, 14) (91,) (100,) (191, 16)\n"
     ]
    }
   ],
   "source": [
    "x_train = x.iloc[-100:]\n",
    "y_train = y.iloc[-100:]\n",
    "x_test = x[:91]\n",
    "y_test = y.head(91)\n",
    "print(x_train.shape, x_test.shape, y_test.shape, y_train.shape, df.shape)"
   ]
  },
  {
   "cell_type": "code",
   "execution_count": 103,
   "metadata": {},
   "outputs": [
    {
     "name": "stdout",
     "output_type": "stream",
     "text": [
      "0.6153846153846154\n"
     ]
    }
   ],
   "source": [
    "# logreg\n",
    "\n",
    "# basic, nothing added or changed\n",
    "\n",
    "# need to tweak parameters\n",
    "logreg = LogisticRegression()\n",
    "data = logreg.fit(x_train, y_train)\n",
    "# THIS IS WHERE WE INPUT LINE TO BRING IN DATA FROM SENSORTILE\n",
    "logreg_test = logreg.predict(x_test)\n",
    "\n",
    "print(accuracy_score(y_test, logreg_test))"
   ]
  },
  {
   "cell_type": "code",
   "execution_count": 104,
   "metadata": {},
   "outputs": [
    {
     "name": "stdout",
     "output_type": "stream",
     "text": [
      "0.5824175824175825\n"
     ]
    }
   ],
   "source": [
    "# logreg w/ cross validation\n",
    "\n",
    "# need to tweak parameters\n",
    "logreg = LogisticRegressionCV()\n",
    "data = logreg.fit(x_train, y_train)\n",
    "logreg_test = logreg.predict(x_test)\n",
    "\n",
    "print(accuracy_score(y_test, logreg_test))"
   ]
  },
  {
   "cell_type": "code",
   "execution_count": 105,
   "metadata": {},
   "outputs": [
    {
     "name": "stdout",
     "output_type": "stream",
     "text": [
      "0.5824175824175825\n"
     ]
    }
   ],
   "source": [
    "# LogRegCV, balanced class\n",
    "\n",
    "logreg = LogisticRegressionCV(class_weight='balanced')\n",
    "data = logreg.fit(x_train, y_train)\n",
    "# THIS IS WHERE WE INPUT LINE TO BRING IN DATA FROM SENSORTILE\n",
    "logreg_test = logreg.predict(x_test)\n",
    "\n",
    "print(accuracy_score(y_test, logreg_test))"
   ]
  },
  {
   "cell_type": "code",
   "execution_count": 106,
   "metadata": {},
   "outputs": [],
   "source": [
    "# standarize data\n",
    "\n",
    "scaler = StandardScaler().fit(x)\n",
    "x = scaler.transform(x)\n",
    "x_train = x[-100:]\n",
    "y_train = y.iloc[-100:]\n",
    "x_test = x[:91]\n",
    "y_test = y.head(91)"
   ]
  },
  {
   "cell_type": "code",
   "execution_count": 107,
   "metadata": {},
   "outputs": [
    {
     "name": "stdout",
     "output_type": "stream",
     "text": [
      "0.4945054945054945\n"
     ]
    }
   ],
   "source": [
    "# logreg, balanced, standardized data\n",
    "\n",
    "logreg = LogisticRegression(class_weight='balanced')\n",
    "data = logreg.fit(x_train, y_train)\n",
    "# THIS IS WHERE WE INPUT LINE TO BRING IN DATA FROM SENSORTILE\n",
    "logreg_test = logreg.predict(x_test)\n",
    "\n",
    "print(accuracy_score(y_test, logreg_test))"
   ]
  },
  {
   "cell_type": "code",
   "execution_count": 111,
   "metadata": {},
   "outputs": [
    {
     "name": "stdout",
     "output_type": "stream",
     "text": [
      "0.5494505494505495\n"
     ]
    }
   ],
   "source": [
    "# logreg w/ cross validation, no balance\n",
    "\n",
    "x = df[['int_ax', 'ax_min', 'ax_max', 'int_ay', 'ay_min', 'ay_max', 'int_az'\n",
    "      , 'az_min', 'az_max', 'gyr_x_min', 'gyr_x_max', 'gyr_y_min',\n",
    "      'gyr_z_min', 'gyr_z_max']]\n",
    "y = df['shot']\n",
    "\n",
    "x_train = x.iloc[-100:]\n",
    "y_train = y.iloc[-100:]\n",
    "x_test = x[:91]\n",
    "y_test = y.head(91)\n",
    "\n",
    "logreg = LogisticRegressionCV(Cs=10,cv=45, max_iter=500, multi_class='multinomial')\n",
    "data = logreg.fit(x_train, y_train)\n",
    "logreg_test = logreg.predict(x_test)\n",
    "\n",
    "print(accuracy_score(y_test, logreg_test))"
   ]
  },
  {
   "cell_type": "code",
   "execution_count": 112,
   "metadata": {},
   "outputs": [
    {
     "name": "stdout",
     "output_type": "stream",
     "text": [
      "0.6373626373626373\n"
     ]
    }
   ],
   "source": [
    "# FINALLY PICKED THIS\n",
    "\n",
    "x = df[['int_ax', 'ax_min', 'ax_max', 'int_ay', 'ay_min', 'ay_max', 'int_az'\n",
    "      , 'az_min', 'az_max', 'gyr_x_min', 'gyr_x_max', 'gyr_y_min',\n",
    "      'gyr_z_min', 'gyr_z_max']]\n",
    "y = df['shot']\n",
    "\n",
    "x_train = x.iloc[-100:]\n",
    "y_train = y.iloc[-100:]\n",
    "x_test = x[:91]\n",
    "y_test = y.head(91)\n",
    "\n",
    "logreg = LogisticRegressionCV(Cs=10,cv=45, class_weight='balanced', max_iter=500, multi_class='multinomial')\n",
    "data = logreg.fit(x_train, y_train)\n",
    "logreg_test = logreg.predict(x_test)\n",
    "\n",
    "print(accuracy_score(y_test, logreg_test))"
   ]
  },
  {
   "cell_type": "code",
   "execution_count": null,
   "metadata": {},
   "outputs": [],
   "source": []
  }
 ],
 "metadata": {
  "kernelspec": {
   "display_name": "Python 3",
   "language": "python",
   "name": "python3"
  },
  "language_info": {
   "codemirror_mode": {
    "name": "ipython",
    "version": 3
   },
   "file_extension": ".py",
   "mimetype": "text/x-python",
   "name": "python",
   "nbconvert_exporter": "python",
   "pygments_lexer": "ipython3",
   "version": "3.6.10"
  }
 },
 "nbformat": 4,
 "nbformat_minor": 4
}
