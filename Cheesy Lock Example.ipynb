{
 "cells": [
  {
   "cell_type": "code",
   "execution_count": 3,
   "metadata": {},
   "outputs": [],
   "source": [
    "import threading\n",
    "import time"
   ]
  },
  {
   "cell_type": "code",
   "execution_count": 7,
   "metadata": {},
   "outputs": [],
   "source": [
    "lock = threading.RLock()"
   ]
  },
  {
   "cell_type": "code",
   "execution_count": 11,
   "metadata": {},
   "outputs": [
    {
     "name": "stdout",
     "output_type": "stream",
     "text": [
      "thread1\n",
      "thread2\n",
      "thread1\n",
      "thread2\n",
      "thread1\n",
      "thread2\n",
      "thread1\n",
      "thread2\n",
      "thread1\n",
      "thread2\n",
      "thread1\n",
      "thread2\n",
      "thread1\n",
      "thread2\n",
      "thread1\n",
      "thread2\n",
      "thread1\n",
      "thread2\n",
      "thread1\n",
      "thread2\n"
     ]
    }
   ],
   "source": [
    "a = {}\n",
    "start_time = time.time()\n",
    "\n",
    "def func1():\n",
    "    while time.time()-start_time<20:\n",
    "        lock.acquire()\n",
    "        global a \n",
    "        a[1] = 2\n",
    "        print('thread1')\n",
    "        lock.release()\n",
    "        time.sleep(2)\n",
    "    \n",
    "def func2():\n",
    "    while time.time()-start_time<20:\n",
    "        lock.acquire()\n",
    "        global a\n",
    "        a[1] = 3\n",
    "        print('thread2')\n",
    "        lock.release()\n",
    "        time.sleep(2)\n",
    "\n",
    "x = threading.Thread(target=func1)\n",
    "y = threading.Thread(target=func2)\n",
    "    \n",
    "x.start()\n",
    "y.start()"
   ]
  },
  {
   "cell_type": "code",
   "execution_count": null,
   "metadata": {},
   "outputs": [],
   "source": []
  }
 ],
 "metadata": {
  "kernelspec": {
   "display_name": "Python 3",
   "language": "python",
   "name": "python3"
  },
  "language_info": {
   "codemirror_mode": {
    "name": "ipython",
    "version": 3
   },
   "file_extension": ".py",
   "mimetype": "text/x-python",
   "name": "python",
   "nbconvert_exporter": "python",
   "pygments_lexer": "ipython3",
   "version": "3.7.4"
  }
 },
 "nbformat": 4,
 "nbformat_minor": 2
}
